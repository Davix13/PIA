{
 "cells": [
  {
   "cell_type": "markdown",
   "metadata": {},
   "source": [
    "# Ejercicios Python 2"
   ]
  },
  {
   "cell_type": "markdown",
   "metadata": {},
   "source": [
    "Resuelve cada ejercicio en su celda y añade las pruebas necesarias para comprobar que funciona correctamente. Indica en un comentario la dificultad encontrada (del 1 al 5)."
   ]
  },
  {
   "cell_type": "code",
   "execution_count": 2,
   "metadata": {},
   "outputs": [],
   "source": [
    "import numpy as np"
   ]
  },
  {
   "cell_type": "code",
   "execution_count": 19,
   "metadata": {},
   "outputs": [
    {
     "name": "stdout",
     "output_type": "stream",
     "text": [
      "{1, 2, 3, 4, 5, 6}\n"
     ]
    },
    {
     "data": {
      "text/plain": [
       "[1, 2, 3, 4, 5, 6]"
      ]
     },
     "execution_count": 19,
     "metadata": {},
     "output_type": "execute_result"
    }
   ],
   "source": [
    "# Función que recibe una lista y devuelve otra eliminando sus duplicados (función y pruebas)\n",
    "def eliminar_duplicados(lista):\n",
    "    lista_nueva = set(lista)\n",
    "    return lista_nueva\n",
    "\n",
    "lista= [1,2,3,1,2,3,4,5,6]\n",
    "print(eliminar_duplicados(lista))\n",
    "\n",
    "#Dificultad = 1\n",
    "\n",
    "#Con numpy\n",
    "def eliminar_duplicados_np(lista):\n",
    "    lista = list(np.unique(lista))\n",
    "    return lista\n",
    "\n",
    "\n",
    "eliminar_duplicados_np(lista)\n",
    "\n",
    "#Dificultad = 1"
   ]
  },
  {
   "cell_type": "code",
   "execution_count": 29,
   "metadata": {},
   "outputs": [
    {
     "name": "stdout",
     "output_type": "stream",
     "text": [
      "[[1, 2, 3], [4, 5, 6], [7, 8, 9]]\n"
     ]
    },
    {
     "data": {
      "text/plain": [
       "array([1, 2, 3, 4, 5, 6, 7, 8, 9])"
      ]
     },
     "execution_count": 29,
     "metadata": {},
     "output_type": "execute_result"
    }
   ],
   "source": [
    "# Función que recibe una matriz (una lista de listas) y devuelve otra eliminando sus duplicados\n",
    "def matriz_sin_duplicados(matriz):\n",
    "    #Creamos una lista de conjuntos vacía para ir agregando y comparar\n",
    "    lista_set = set()\n",
    "    \n",
    "    #Aqui almacenamos resultado\n",
    "    lista_resultado = []\n",
    "\n",
    "    for fila in matriz:\n",
    "        lista_tupla = tuple(fila)\n",
    "        if lista_tupla not in lista_set:\n",
    "            lista_set.add(lista_tupla)\n",
    "            lista_resultado.append(fila)\n",
    "    \n",
    "    return lista_resultado\n",
    "    \n",
    "        \n",
    "\n",
    "matriz = [[1,2,3],[1,2,3],[4,5,6],[7,8,9]]\n",
    "print(matriz_sin_duplicados(matriz))\n",
    "\n",
    "#Dificultad = 3\n",
    "\n",
    "#Con numpy\n",
    "def matriz_sin_duplicados_np(matriz):\n",
    "    matriz_unica = np.unique(matriz)\n",
    "    matriz = np.array(matriz_unica)    #Convertimos la lista de listas en array de verdad :)\n",
    "    return matriz\n",
    "\n",
    "matriz_sin_duplicados_np(matriz)\n",
    "\n",
    "#Dificultad = 1"
   ]
  },
  {
   "cell_type": "code",
   "execution_count": 40,
   "metadata": {},
   "outputs": [
    {
     "name": "stdout",
     "output_type": "stream",
     "text": [
      "{1: 4, 2: 4, 3: 4, 4: 2, 5: 1, 6: 1, 7: 1}\n"
     ]
    },
    {
     "data": {
      "text/plain": [
       "{1: 4, 2: 4, 3: 4, 4: 2, 5: 1, 6: 1, 7: 1}"
      ]
     },
     "execution_count": 40,
     "metadata": {},
     "output_type": "execute_result"
    }
   ],
   "source": [
    "# Función que recibe una lista y devuelve un diccionario con el número de veces que aparece cada elemento (las claves del diccionario deben ser los elementos de la lista y los valores deben ser el número de veces que aparece dicho elemento en la lista)\n",
    "def convertir_diccionario(lista):\n",
    "    diccionario = {}\n",
    "\n",
    "    for elemento in lista:\n",
    "        if elemento not in diccionario.keys():\n",
    "            diccionario[elemento] = 1\n",
    "        else:\n",
    "            diccionario[elemento] += 1\n",
    "    print(diccionario)\n",
    "\n",
    "lista = [1,2,3,4,1,2,3,4,5,6,7,1,2,3,1,2,3]\n",
    "convertir_diccionario(lista)\n",
    "\n",
    "#Dificultad = 2\n",
    "\n",
    "#Numpy\n",
    "def convertir_diccionario_np(lista):\n",
    "    lista = dict(zip(*np.unique(lista,return_counts=True)))\n",
    "\n",
    "    return lista\n",
    "\n",
    "convertir_diccionario_np(lista)\n",
    "#Dificultad = 5 no sacaba el asterisco "
   ]
  },
  {
   "cell_type": "code",
   "execution_count": 60,
   "metadata": {},
   "outputs": [
    {
     "name": "stdout",
     "output_type": "stream",
     "text": [
      "[[1, 0, 0], [0, 1, 0], [0, 0, 1]]\n",
      "[[1 0 0]\n",
      " [0 1 0]\n",
      " [0 0 1]]\n"
     ]
    }
   ],
   "source": [
    "# Función que recibe dos matrices cuadradas (NxN) y devuelve una tercera matriz que contiene el valor 1 en las posiciones en que el valor de A y B coinciden y 0 en caso contrario.\n",
    "def valores_iguales_matriz(matriz1, matriz2):\n",
    "    # Verificar si las matrices son cuadradas\n",
    "    if len(matriz1) != len(matriz2):\n",
    "        print(\"Error las matrices no son cuadradas\")\n",
    "\n",
    "    # Inicializar la matriz resultado\n",
    "    matriz_final = []\n",
    "    for fila in range(len(matriz1)):\n",
    "        fila_final = []\n",
    "        for elemento in range(len(matriz1)):\n",
    "            if matriz1[fila][elemento] == matriz2[fila][elemento]:\n",
    "                fila_final.append(1)\n",
    "            else:\n",
    "                fila_final.append(0)\n",
    "        matriz_final.append(fila_final)\n",
    "    return matriz_final\n",
    "\n",
    "# Tests\n",
    "matriz1 = [[1, 2, 3], [4, 5, 6], [7, 8, 9]] # Matriz 3x3\n",
    "matriz2 = [[1, 5, 6], [7, 5, 9], [1, 2, 9]] # Matriz 3x3\n",
    "print(valores_iguales_matriz(matriz1, matriz2)) # Debería mostrar una matriz identidad\n",
    "assert valores_iguales_matriz(matriz1, matriz2) == [[1, 0, 0], [0, 1, 0], [0, 0, 1]]\n",
    "\n",
    "\n",
    "'''\n",
    "La sentencia assert evalúa una expresión booleana. Si es True, no hace nada. Si es False, lanza una excepción de tipo AssertionError.\n",
    "Si tu función es correcta, al ejecutar no debería mostrar nada. Si falla, mostrará un AssertionError.\n",
    "Se utiliza para testing. \n",
    "https://ellibrodepython.com/assert-python\n",
    "'''\n",
    "#Dificultad = 4\n",
    "\n",
    "#Numpy \n",
    "def valores_iguales_matriz_np(matriz3,matriz4):\n",
    "    matriz = np.where(matriz3 == matriz4 ,1 ,0)\n",
    "    return matriz\n",
    "\n",
    "    \n",
    "matriz3 = np.array([[1, 2, 3], [4, 5, 6], [7, 8, 9]]) \n",
    "matriz4 = np.array([[1, 5, 6], [7, 5, 9], [1, 2, 9]]) \n",
    "print(valores_iguales_matriz_np(matriz3, matriz4)) \n",
    "\n",
    "#Dificultad = 3"
   ]
  },
  {
   "cell_type": "code",
   "execution_count": 7,
   "metadata": {},
   "outputs": [
    {
     "data": {
      "text/plain": [
       "[(0, 2), (2, 0)]"
      ]
     },
     "execution_count": 7,
     "metadata": {},
     "output_type": "execute_result"
    }
   ],
   "source": [
    "# Función que recibe una matriz y busca sus puntos de silla (mínimo de su fila y máximo de su columna o viceversa). Debe devolver una lista de tuplas con las coordenadas de los puntos de silla.\n",
    "def puntos_de_silla(matriz):\n",
    "\n",
    "    fila = len(matriz)\n",
    "    columna = len(matriz[0])\n",
    "    cordenadas= []\n",
    "\n",
    "    for x in range(fila):\n",
    "        for y in range(columna):\n",
    "            elemento_actual = matriz[x][y]\n",
    "            if elemento_actual == min(matriz[x]) and elemento_actual == max(matriz[k][y] for k in range(fila)):\n",
    "                #print(\"minimo fila y maximo de columna:{}\".format(elemento_actual))\n",
    "                cordenadas.append((x,y))\n",
    "            elif elemento_actual == max(matriz[x]) and elemento_actual == min(matriz[k][y] for k in range(fila)):\n",
    "                #print(\"maximo de fila y minimo de fila:{}\".format(elemento_actual))\n",
    "                cordenadas.append((x,y))\n",
    "    return cordenadas\n",
    "\n",
    "matriz =[[1,2,3],[4,5,6],[7,8,9]]\n",
    "puntos_de_silla(matriz)\n",
    "\n",
    "#Dificultad = 5\n",
    "\n",
    "\n",
    "\n",
    "\n",
    "\n",
    "\n"
   ]
  },
  {
   "cell_type": "markdown",
   "metadata": {},
   "source": [
    "## "
   ]
  },
  {
   "cell_type": "code",
   "execution_count": 9,
   "metadata": {},
   "outputs": [
    {
     "name": "stdout",
     "output_type": "stream",
     "text": [
      "[] []\n",
      "Puntos de silla:  []\n"
     ]
    }
   ],
   "source": [
    "#Numpy\n",
    "import numpy as np\n",
    "\n",
    "def puntos_de_silla_numpy(matriz):\n",
    "    matriz = np.array(matriz)\n",
    "\n",
    "    #indices minimos por fila\n",
    "    indices_min_fila = np.argmin(matriz,axis=1)\n",
    "\n",
    "    #indices maximos columna\n",
    "    indices_max_columna = np.argmax(matriz,axis=0)\n",
    "    \n",
    "    #los puntos de silla comparando los indices anteriores\n",
    "    puntos_silla_filas,puntos_silla_columnas = np.where(indices_min_fila[:,None] == indices_max_columna)\n",
    "    print(puntos_silla_columnas,puntos_silla_filas)\n",
    "    #Creamos lista\n",
    "\n",
    "    puntos_silla = list(zip(puntos_silla_filas,puntos_silla_columnas))\n",
    "\n",
    "    return puntos_silla\n",
    "\n",
    "#matriz:\n",
    "matriz_ejemplo = [[1,2,3],[4,5,6],[7,8,9]]\n",
    "\n",
    "resultado = puntos_de_silla_numpy(matriz_ejemplo)\n",
    "print(\"Puntos de silla: \",resultado)"
   ]
  },
  {
   "cell_type": "markdown",
   "metadata": {},
   "source": [
    "## "
   ]
  }
 ],
 "metadata": {
  "kernelspec": {
   "display_name": "Python 3 (ipykernel)",
   "language": "python",
   "name": "python3"
  },
  "language_info": {
   "codemirror_mode": {
    "name": "ipython",
    "version": 3
   },
   "file_extension": ".py",
   "mimetype": "text/x-python",
   "name": "python",
   "nbconvert_exporter": "python",
   "pygments_lexer": "ipython3",
   "version": "3.11.3"
  }
 },
 "nbformat": 4,
 "nbformat_minor": 2
}
